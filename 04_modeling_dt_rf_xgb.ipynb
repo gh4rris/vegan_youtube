{
 "cells": [
  {
   "cell_type": "code",
   "execution_count": 1,
   "id": "11b37e8e",
   "metadata": {},
   "outputs": [],
   "source": [
    "# import relevant libraries\n",
    "import pandas as pd\n",
    "import numpy as np\n",
    "import matplotlib.pyplot as plt\n",
    "import seaborn as sns\n",
    "import pickle\n",
    "import shap\n",
    "import xgboost as xgb\n",
    "from scipy.stats import randint, uniform\n",
    "from scipy.special import inv_boxcox\n",
    "from sklearn.model_selection import train_test_split\n",
    "from sklearn.preprocessing import StandardScaler\n",
    "from sklearn.pipeline import make_pipeline\n",
    "from sklearn.tree import DecisionTreeRegressor\n",
    "from sklearn.ensemble import RandomForestRegressor\n",
    "from sklearn.model_selection import GridSearchCV, RandomizedSearchCV\n",
    "from sklearn.metrics import root_mean_squared_error, median_absolute_error, r2_score, make_scorer\n",
    "from sklearn.utils import resample\n",
    "from sklearn.inspection import PartialDependenceDisplay"
   ]
  },
  {
   "cell_type": "code",
   "execution_count": 2,
   "id": "eddaec5d",
   "metadata": {},
   "outputs": [
    {
     "data": {
      "text/html": [
       "<div>\n",
       "<style scoped>\n",
       "    .dataframe tbody tr th:only-of-type {\n",
       "        vertical-align: middle;\n",
       "    }\n",
       "\n",
       "    .dataframe tbody tr th {\n",
       "        vertical-align: top;\n",
       "    }\n",
       "\n",
       "    .dataframe thead th {\n",
       "        text-align: right;\n",
       "    }\n",
       "</style>\n",
       "<table border=\"1\" class=\"dataframe\">\n",
       "  <thead>\n",
       "    <tr style=\"text-align: right;\">\n",
       "      <th></th>\n",
       "      <th>caption</th>\n",
       "      <th>hour_published</th>\n",
       "      <th>weekday_published</th>\n",
       "      <th>month_published</th>\n",
       "      <th>is_short</th>\n",
       "      <th>hd</th>\n",
       "      <th>tag_vegan</th>\n",
       "      <th>tag_veganism</th>\n",
       "      <th>tag_animal rights</th>\n",
       "      <th>tag_earthling ed|earthlinged</th>\n",
       "      <th>...</th>\n",
       "      <th>cat_Gaming</th>\n",
       "      <th>cat_Howto &amp; Style</th>\n",
       "      <th>cat_Music</th>\n",
       "      <th>cat_News &amp; Politics</th>\n",
       "      <th>cat_Nonprofits &amp; Activism</th>\n",
       "      <th>cat_People &amp; Blogs</th>\n",
       "      <th>cat_Pets &amp; Animals</th>\n",
       "      <th>cat_Science &amp; Technology</th>\n",
       "      <th>cat_Sports</th>\n",
       "      <th>cat_Travel &amp; Events</th>\n",
       "    </tr>\n",
       "  </thead>\n",
       "  <tbody>\n",
       "    <tr>\n",
       "      <th>0</th>\n",
       "      <td>0</td>\n",
       "      <td>0</td>\n",
       "      <td>6</td>\n",
       "      <td>11</td>\n",
       "      <td>1</td>\n",
       "      <td>1</td>\n",
       "      <td>0</td>\n",
       "      <td>0</td>\n",
       "      <td>0</td>\n",
       "      <td>0</td>\n",
       "      <td>...</td>\n",
       "      <td>0</td>\n",
       "      <td>0</td>\n",
       "      <td>0</td>\n",
       "      <td>0</td>\n",
       "      <td>0</td>\n",
       "      <td>1</td>\n",
       "      <td>0</td>\n",
       "      <td>0</td>\n",
       "      <td>0</td>\n",
       "      <td>0</td>\n",
       "    </tr>\n",
       "    <tr>\n",
       "      <th>1</th>\n",
       "      <td>0</td>\n",
       "      <td>20</td>\n",
       "      <td>4</td>\n",
       "      <td>4</td>\n",
       "      <td>0</td>\n",
       "      <td>1</td>\n",
       "      <td>0</td>\n",
       "      <td>0</td>\n",
       "      <td>0</td>\n",
       "      <td>0</td>\n",
       "      <td>...</td>\n",
       "      <td>0</td>\n",
       "      <td>0</td>\n",
       "      <td>0</td>\n",
       "      <td>0</td>\n",
       "      <td>0</td>\n",
       "      <td>1</td>\n",
       "      <td>0</td>\n",
       "      <td>0</td>\n",
       "      <td>0</td>\n",
       "      <td>0</td>\n",
       "    </tr>\n",
       "    <tr>\n",
       "      <th>2</th>\n",
       "      <td>0</td>\n",
       "      <td>18</td>\n",
       "      <td>3</td>\n",
       "      <td>10</td>\n",
       "      <td>1</td>\n",
       "      <td>0</td>\n",
       "      <td>0</td>\n",
       "      <td>0</td>\n",
       "      <td>0</td>\n",
       "      <td>0</td>\n",
       "      <td>...</td>\n",
       "      <td>0</td>\n",
       "      <td>0</td>\n",
       "      <td>0</td>\n",
       "      <td>0</td>\n",
       "      <td>1</td>\n",
       "      <td>0</td>\n",
       "      <td>0</td>\n",
       "      <td>0</td>\n",
       "      <td>0</td>\n",
       "      <td>0</td>\n",
       "    </tr>\n",
       "    <tr>\n",
       "      <th>3</th>\n",
       "      <td>0</td>\n",
       "      <td>19</td>\n",
       "      <td>0</td>\n",
       "      <td>11</td>\n",
       "      <td>1</td>\n",
       "      <td>1</td>\n",
       "      <td>1</td>\n",
       "      <td>1</td>\n",
       "      <td>0</td>\n",
       "      <td>0</td>\n",
       "      <td>...</td>\n",
       "      <td>0</td>\n",
       "      <td>0</td>\n",
       "      <td>0</td>\n",
       "      <td>0</td>\n",
       "      <td>1</td>\n",
       "      <td>0</td>\n",
       "      <td>0</td>\n",
       "      <td>0</td>\n",
       "      <td>0</td>\n",
       "      <td>0</td>\n",
       "    </tr>\n",
       "    <tr>\n",
       "      <th>4</th>\n",
       "      <td>1</td>\n",
       "      <td>20</td>\n",
       "      <td>2</td>\n",
       "      <td>10</td>\n",
       "      <td>0</td>\n",
       "      <td>1</td>\n",
       "      <td>1</td>\n",
       "      <td>1</td>\n",
       "      <td>0</td>\n",
       "      <td>1</td>\n",
       "      <td>...</td>\n",
       "      <td>0</td>\n",
       "      <td>0</td>\n",
       "      <td>0</td>\n",
       "      <td>0</td>\n",
       "      <td>1</td>\n",
       "      <td>0</td>\n",
       "      <td>0</td>\n",
       "      <td>0</td>\n",
       "      <td>0</td>\n",
       "      <td>0</td>\n",
       "    </tr>\n",
       "  </tbody>\n",
       "</table>\n",
       "<p>5 rows × 340 columns</p>\n",
       "</div>"
      ],
      "text/plain": [
       "   caption  hour_published  weekday_published  month_published  is_short  hd  \\\n",
       "0        0               0                  6               11         1   1   \n",
       "1        0              20                  4                4         0   1   \n",
       "2        0              18                  3               10         1   0   \n",
       "3        0              19                  0               11         1   1   \n",
       "4        1              20                  2               10         0   1   \n",
       "\n",
       "   tag_vegan  tag_veganism  tag_animal rights  tag_earthling ed|earthlinged  \\\n",
       "0          0             0                  0                             0   \n",
       "1          0             0                  0                             0   \n",
       "2          0             0                  0                             0   \n",
       "3          1             1                  0                             0   \n",
       "4          1             1                  0                             1   \n",
       "\n",
       "   ...  cat_Gaming  cat_Howto & Style  cat_Music  cat_News & Politics  \\\n",
       "0  ...           0                  0          0                    0   \n",
       "1  ...           0                  0          0                    0   \n",
       "2  ...           0                  0          0                    0   \n",
       "3  ...           0                  0          0                    0   \n",
       "4  ...           0                  0          0                    0   \n",
       "\n",
       "   cat_Nonprofits & Activism  cat_People & Blogs  cat_Pets & Animals  \\\n",
       "0                          0                   1                   0   \n",
       "1                          0                   1                   0   \n",
       "2                          1                   0                   0   \n",
       "3                          1                   0                   0   \n",
       "4                          1                   0                   0   \n",
       "\n",
       "   cat_Science & Technology  cat_Sports  cat_Travel & Events  \n",
       "0                         0           0                    0  \n",
       "1                         0           0                    0  \n",
       "2                         0           0                    0  \n",
       "3                         0           0                    0  \n",
       "4                         0           0                    0  \n",
       "\n",
       "[5 rows x 340 columns]"
      ]
     },
     "execution_count": 2,
     "metadata": {},
     "output_type": "execute_result"
    }
   ],
   "source": [
    "# import the data and  drop no longer needed columns\n",
    "video_df = pd.read_csv(\"data/videos_prepared.csv\")\n",
    "\n",
    "remove_columns = [\"video_id\", \"title\", \"channel_title\"]\n",
    "video_df.drop(columns=remove_columns, inplace=True)\n",
    "video_df.head()"
   ]
  },
  {
   "cell_type": "code",
   "execution_count": 3,
   "id": "553a6058",
   "metadata": {},
   "outputs": [
    {
     "data": {
      "text/html": [
       "<div>\n",
       "<style scoped>\n",
       "    .dataframe tbody tr th:only-of-type {\n",
       "        vertical-align: middle;\n",
       "    }\n",
       "\n",
       "    .dataframe tbody tr th {\n",
       "        vertical-align: top;\n",
       "    }\n",
       "\n",
       "    .dataframe thead th {\n",
       "        text-align: right;\n",
       "    }\n",
       "</style>\n",
       "<table border=\"1\" class=\"dataframe\">\n",
       "  <thead>\n",
       "    <tr style=\"text-align: right;\">\n",
       "      <th></th>\n",
       "      <th>caption</th>\n",
       "      <th>hour_published</th>\n",
       "      <th>weekday_published</th>\n",
       "      <th>month_published</th>\n",
       "      <th>is_short</th>\n",
       "      <th>hd</th>\n",
       "      <th>tag_vegan</th>\n",
       "      <th>tag_veganism</th>\n",
       "      <th>tag_animal rights</th>\n",
       "      <th>tag_earthling ed|earthlinged</th>\n",
       "      <th>...</th>\n",
       "      <th>cat_Gaming</th>\n",
       "      <th>cat_Howto &amp; Style</th>\n",
       "      <th>cat_Music</th>\n",
       "      <th>cat_News &amp; Politics</th>\n",
       "      <th>cat_Nonprofits &amp; Activism</th>\n",
       "      <th>cat_People &amp; Blogs</th>\n",
       "      <th>cat_Pets &amp; Animals</th>\n",
       "      <th>cat_Science &amp; Technology</th>\n",
       "      <th>cat_Sports</th>\n",
       "      <th>cat_Travel &amp; Events</th>\n",
       "    </tr>\n",
       "  </thead>\n",
       "  <tbody>\n",
       "    <tr>\n",
       "      <th>50</th>\n",
       "      <td>0</td>\n",
       "      <td>11</td>\n",
       "      <td>0</td>\n",
       "      <td>11</td>\n",
       "      <td>0</td>\n",
       "      <td>1</td>\n",
       "      <td>0</td>\n",
       "      <td>0</td>\n",
       "      <td>0</td>\n",
       "      <td>0</td>\n",
       "      <td>...</td>\n",
       "      <td>0</td>\n",
       "      <td>0</td>\n",
       "      <td>0</td>\n",
       "      <td>0</td>\n",
       "      <td>0</td>\n",
       "      <td>1</td>\n",
       "      <td>0</td>\n",
       "      <td>0</td>\n",
       "      <td>0</td>\n",
       "      <td>0</td>\n",
       "    </tr>\n",
       "    <tr>\n",
       "      <th>309</th>\n",
       "      <td>0</td>\n",
       "      <td>19</td>\n",
       "      <td>1</td>\n",
       "      <td>9</td>\n",
       "      <td>1</td>\n",
       "      <td>1</td>\n",
       "      <td>0</td>\n",
       "      <td>0</td>\n",
       "      <td>0</td>\n",
       "      <td>0</td>\n",
       "      <td>...</td>\n",
       "      <td>0</td>\n",
       "      <td>0</td>\n",
       "      <td>0</td>\n",
       "      <td>1</td>\n",
       "      <td>0</td>\n",
       "      <td>0</td>\n",
       "      <td>0</td>\n",
       "      <td>0</td>\n",
       "      <td>0</td>\n",
       "      <td>0</td>\n",
       "    </tr>\n",
       "    <tr>\n",
       "      <th>535</th>\n",
       "      <td>1</td>\n",
       "      <td>12</td>\n",
       "      <td>3</td>\n",
       "      <td>5</td>\n",
       "      <td>0</td>\n",
       "      <td>1</td>\n",
       "      <td>1</td>\n",
       "      <td>0</td>\n",
       "      <td>0</td>\n",
       "      <td>0</td>\n",
       "      <td>...</td>\n",
       "      <td>0</td>\n",
       "      <td>0</td>\n",
       "      <td>0</td>\n",
       "      <td>1</td>\n",
       "      <td>0</td>\n",
       "      <td>0</td>\n",
       "      <td>0</td>\n",
       "      <td>0</td>\n",
       "      <td>0</td>\n",
       "      <td>0</td>\n",
       "    </tr>\n",
       "    <tr>\n",
       "      <th>364</th>\n",
       "      <td>0</td>\n",
       "      <td>17</td>\n",
       "      <td>4</td>\n",
       "      <td>4</td>\n",
       "      <td>0</td>\n",
       "      <td>1</td>\n",
       "      <td>1</td>\n",
       "      <td>1</td>\n",
       "      <td>0</td>\n",
       "      <td>0</td>\n",
       "      <td>...</td>\n",
       "      <td>0</td>\n",
       "      <td>0</td>\n",
       "      <td>0</td>\n",
       "      <td>0</td>\n",
       "      <td>0</td>\n",
       "      <td>0</td>\n",
       "      <td>0</td>\n",
       "      <td>0</td>\n",
       "      <td>0</td>\n",
       "      <td>0</td>\n",
       "    </tr>\n",
       "    <tr>\n",
       "      <th>346</th>\n",
       "      <td>0</td>\n",
       "      <td>16</td>\n",
       "      <td>3</td>\n",
       "      <td>1</td>\n",
       "      <td>1</td>\n",
       "      <td>1</td>\n",
       "      <td>1</td>\n",
       "      <td>0</td>\n",
       "      <td>0</td>\n",
       "      <td>0</td>\n",
       "      <td>...</td>\n",
       "      <td>0</td>\n",
       "      <td>0</td>\n",
       "      <td>0</td>\n",
       "      <td>0</td>\n",
       "      <td>0</td>\n",
       "      <td>1</td>\n",
       "      <td>0</td>\n",
       "      <td>0</td>\n",
       "      <td>0</td>\n",
       "      <td>0</td>\n",
       "    </tr>\n",
       "  </tbody>\n",
       "</table>\n",
       "<p>5 rows × 339 columns</p>\n",
       "</div>"
      ],
      "text/plain": [
       "     caption  hour_published  weekday_published  month_published  is_short  \\\n",
       "50         0              11                  0               11         0   \n",
       "309        0              19                  1                9         1   \n",
       "535        1              12                  3                5         0   \n",
       "364        0              17                  4                4         0   \n",
       "346        0              16                  3                1         1   \n",
       "\n",
       "     hd  tag_vegan  tag_veganism  tag_animal rights  \\\n",
       "50    1          0             0                  0   \n",
       "309   1          0             0                  0   \n",
       "535   1          1             0                  0   \n",
       "364   1          1             1                  0   \n",
       "346   1          1             0                  0   \n",
       "\n",
       "     tag_earthling ed|earthlinged  ...  cat_Gaming  cat_Howto & Style  \\\n",
       "50                              0  ...           0                  0   \n",
       "309                             0  ...           0                  0   \n",
       "535                             0  ...           0                  0   \n",
       "364                             0  ...           0                  0   \n",
       "346                             0  ...           0                  0   \n",
       "\n",
       "     cat_Music  cat_News & Politics  cat_Nonprofits & Activism  \\\n",
       "50           0                    0                          0   \n",
       "309          0                    1                          0   \n",
       "535          0                    1                          0   \n",
       "364          0                    0                          0   \n",
       "346          0                    0                          0   \n",
       "\n",
       "     cat_People & Blogs  cat_Pets & Animals  cat_Science & Technology  \\\n",
       "50                    1                   0                         0   \n",
       "309                   0                   0                         0   \n",
       "535                   0                   0                         0   \n",
       "364                   0                   0                         0   \n",
       "346                   1                   0                         0   \n",
       "\n",
       "     cat_Sports  cat_Travel & Events  \n",
       "50            0                    0  \n",
       "309           0                    0  \n",
       "535           0                    0  \n",
       "364           0                    0  \n",
       "346           0                    0  \n",
       "\n",
       "[5 rows x 339 columns]"
      ]
     },
     "execution_count": 3,
     "metadata": {},
     "output_type": "execute_result"
    }
   ],
   "source": [
    "# split into features and target variable & remove box cox view rate\n",
    "X = video_df.drop(columns=\"box_view_rate\")\n",
    "y = video_df[\"box_view_rate\"]\n",
    "\n",
    "# split into training and test data\n",
    "SEED = 666\n",
    "X_train, X_test, y_train, y_test = train_test_split(X, y, test_size=0.2, random_state=SEED)\n",
    "X_train.head()"
   ]
  },
  {
   "cell_type": "code",
   "execution_count": 4,
   "id": "fdd885b7",
   "metadata": {},
   "outputs": [],
   "source": [
    "# load fitted lambda and back transform box cox test target values\n",
    "with open(\"data/fitted_lambda.pkl\", \"rb\") as f:\n",
    "    fitted_lambda = pickle.load(f)\n",
    "\n",
    "y_test_original = inv_boxcox(y_test, fitted_lambda)"
   ]
  },
  {
   "cell_type": "code",
   "execution_count": 5,
   "id": "c02bdf19",
   "metadata": {},
   "outputs": [],
   "source": [
    "# create custom scorer to minimize rmse in original units\n",
    "def rmse_original_units(y_test, y_pred):\n",
    "    y_test_bt = inv_boxcox(y_test, fitted_lambda)\n",
    "    y_pred_bt = inv_boxcox(y_pred, fitted_lambda)\n",
    "    return root_mean_squared_error(y_test_bt, y_pred_bt)\n",
    "\n",
    "rmse_scorer = make_scorer(rmse_original_units, greater_is_better=False)"
   ]
  },
  {
   "cell_type": "code",
   "execution_count": 6,
   "id": "6abfa958",
   "metadata": {},
   "outputs": [
    {
     "name": "stdout",
     "output_type": "stream",
     "text": [
      "best score: 558.6835361551704, best params: {'decisiontreeregressor__max_depth': 5, 'decisiontreeregressor__min_samples_leaf': 6, 'decisiontreeregressor__min_samples_split': 2}\n"
     ]
    }
   ],
   "source": [
    "# hyperparameter tune a decision tree regressor\n",
    "params = {\"decisiontreeregressor__max_depth\": [3, 5, 10, 15, 20, 30, None], \"decisiontreeregressor__min_samples_leaf\": [2, 4, 6], \"decisiontreeregressor__min_samples_split\": [2, 5, 10]}\n",
    "dt_pipeline = make_pipeline(StandardScaler(), DecisionTreeRegressor(random_state=SEED))\n",
    "grid_search = GridSearchCV(dt_pipeline, param_grid=params, cv=10, scoring=rmse_scorer, n_jobs=-1)\n",
    "grid_search.fit(X_train, y_train)\n",
    "best_params = grid_search.best_params_\n",
    "print(f\"best score: {-grid_search.best_score_}, best params: {best_params}\")"
   ]
  },
  {
   "cell_type": "code",
   "execution_count": 7,
   "id": "3ed1c59c",
   "metadata": {},
   "outputs": [
    {
     "name": "stdout",
     "output_type": "stream",
     "text": [
      "box_rmse: 1.89, original_rmse : 548.46, medae: 16.67\n"
     ]
    }
   ],
   "source": [
    "# fit decision tree with optimal parameters\n",
    "dt = DecisionTreeRegressor(max_depth=best_params[\"decisiontreeregressor__max_depth\"], min_samples_leaf=best_params[\"decisiontreeregressor__min_samples_leaf\"], min_samples_split=best_params[\"decisiontreeregressor__min_samples_split\"], random_state=SEED)\n",
    "dt.fit(X_train, y_train)\n",
    "y_pred = dt.predict(X_test)\n",
    "y_pred_original = inv_boxcox(y_pred, fitted_lambda)\n",
    "box_rmse = round(root_mean_squared_error(y_test, y_pred), 2)\n",
    "original_rmse = round(root_mean_squared_error(y_test_original, y_pred_original), 2)\n",
    "medae = round(median_absolute_error(y_test_original, y_pred_original), 2)\n",
    "print(f\"box_rmse: {box_rmse}, original_rmse : {original_rmse}, medae: {medae}\")"
   ]
  },
  {
   "cell_type": "code",
   "execution_count": 8,
   "id": "5f24b593",
   "metadata": {},
   "outputs": [
    {
     "name": "stdout",
     "output_type": "stream",
     "text": [
      "RMSE CI: [352.47, 717.42], MedAE CI: [11.72, 24.9]\n"
     ]
    }
   ],
   "source": [
    "# calculate 95% confidence intervals\n",
    "rmse_scores = []\n",
    "medae_scores = []\n",
    "for i in range(1000):\n",
    "    X_resampled, y_resampled = resample(X_test, y_test, n_samples=len(X_train), replace=True, random_state=i)\n",
    "    y_resampled_pred = dt.predict(X_resampled)\n",
    "    y_resampled_original = inv_boxcox(y_resampled, fitted_lambda)\n",
    "    y_resampled_pred_original = inv_boxcox(y_resampled_pred, fitted_lambda)\n",
    "    rmse = root_mean_squared_error(y_resampled_original, y_resampled_pred_original)\n",
    "    medae = median_absolute_error(y_resampled_original, y_resampled_pred_original)\n",
    "    rmse_scores.append(rmse)\n",
    "    medae_scores.append(medae)\n",
    "\n",
    "rmse_lower = np.percentile(rmse_scores, 2.5)\n",
    "rmse_upper = np.percentile(rmse_scores, 97.5)\n",
    "medae_lower = np.percentile(medae_scores, 2.5)\n",
    "medae_upper = np.percentile(medae_scores, 97.5)\n",
    "print(f\"RMSE CI: [{round(rmse_lower, 2)}, {round(rmse_upper, 2)}], MedAE CI: [{round(medae_lower, 2)}, {round(medae_upper, 2)}]\")"
   ]
  },
  {
   "cell_type": "code",
   "execution_count": 9,
   "id": "b5a5c7c2",
   "metadata": {},
   "outputs": [
    {
     "name": "stdout",
     "output_type": "stream",
     "text": [
      "best score: 534.2997991062651, best params: {'randomforestregressor__n_estimators': 200, 'randomforestregressor__min_samples_leaf': 4, 'randomforestregressor__max_features': None, 'randomforestregressor__max_depth': 30, 'randomforestregressor__bootstrap': True}\n"
     ]
    }
   ],
   "source": [
    "# instantiate random forest and use randomized cross validation to search wide range of hyperparameters\n",
    "params = {\"randomforestregressor__n_estimators\": [100, 200, 300, 500, 1000], \"randomforestregressor__max_depth\": [20, 30, 50, 60, None], \"randomforestregressor__min_samples_leaf\": [2, 4, 6],\n",
    "          \"randomforestregressor__max_features\": [\"sqrt\", \"log2\", None], \"randomforestregressor__bootstrap\": [True, False]}\n",
    "rf_pipeline = make_pipeline(StandardScaler(), RandomForestRegressor(random_state=SEED))\n",
    "rand_search = RandomizedSearchCV(rf_pipeline, param_distributions=params, cv=10, n_iter=50, scoring=rmse_scorer, n_jobs=-1, random_state=SEED)\n",
    "rand_search.fit(X_train, y_train)\n",
    "best_params = rand_search.best_params_\n",
    "print(f\"best score: {-rand_search.best_score_}, best params: {best_params}\")"
   ]
  },
  {
   "cell_type": "code",
   "execution_count": 10,
   "id": "5414d243",
   "metadata": {},
   "outputs": [
    {
     "name": "stdout",
     "output_type": "stream",
     "text": [
      "best score: 534.2997991062651, best params: {'randomforestregressor__bootstrap': True, 'randomforestregressor__max_depth': np.int64(25), 'randomforestregressor__max_features': None, 'randomforestregressor__min_samples_leaf': 4, 'randomforestregressor__n_estimators': np.int64(200)}\n"
     ]
    }
   ],
   "source": [
    "# use gridsearch for fine-tuning hyperparameters\n",
    "params = {\"randomforestregressor__n_estimators\": np.arange(best_params[\"randomforestregressor__n_estimators\"] - 20, best_params[\"randomforestregressor__n_estimators\"] + 30, 10),\n",
    "          \"randomforestregressor__max_depth\": np.arange(best_params[\"randomforestregressor__max_depth\"] - 5, best_params[\"randomforestregressor__max_depth\"] + 10, 5),\n",
    "          \"randomforestregressor__min_samples_leaf\": [best_params[\"randomforestregressor__min_samples_leaf\"]], \"randomforestregressor__max_features\": [best_params[\"randomforestregressor__max_features\"]],\n",
    "          \"randomforestregressor__bootstrap\": [best_params[\"randomforestregressor__bootstrap\"]]}\n",
    "rf_pipeline = make_pipeline(StandardScaler(), RandomForestRegressor(random_state=SEED))\n",
    "grid_search = GridSearchCV(rf_pipeline, param_grid=params, cv=10, scoring=rmse_scorer, n_jobs=-1)\n",
    "grid_search.fit(X_train, y_train)\n",
    "best_params = grid_search.best_params_\n",
    "print(f\"best score: {-grid_search.best_score_}, best params: {best_params}\")"
   ]
  },
  {
   "cell_type": "code",
   "execution_count": 11,
   "id": "e3a538a8",
   "metadata": {},
   "outputs": [
    {
     "name": "stdout",
     "output_type": "stream",
     "text": [
      "box_rmse: 1.52, original_rmse : 518.92, medae: 13.66, r2: 0.18\n"
     ]
    }
   ],
   "source": [
    "# fit random forest with optimal parameters\n",
    "rf_pipeline = make_pipeline(StandardScaler(), RandomForestRegressor(n_estimators=best_params[\"randomforestregressor__n_estimators\"], max_depth=best_params[\"randomforestregressor__max_depth\"], min_samples_leaf=best_params[\"randomforestregressor__min_samples_leaf\"],\n",
    "                           max_features=best_params[\"randomforestregressor__max_features\"], bootstrap=best_params[\"randomforestregressor__bootstrap\"], random_state=SEED))\n",
    "rf_pipeline.fit(X_train, y_train)\n",
    "y_pred = rf_pipeline.predict(X_test)\n",
    "y_pred_original = inv_boxcox(y_pred, fitted_lambda)\n",
    "box_rmse = round(root_mean_squared_error(y_test, y_pred), 2)\n",
    "original_rmse = round(root_mean_squared_error(y_test_original, y_pred_original), 2)\n",
    "medae = round(median_absolute_error(y_test_original, y_pred_original), 2)\n",
    "r2 = round(r2_score(y_test_original, y_pred_original), 2)\n",
    "rf = rf_pipeline.named_steps[\"randomforestregressor\"]\n",
    "print(f\"box_rmse: {box_rmse}, original_rmse : {original_rmse}, medae: {medae}, r2: {r2}\")"
   ]
  },
  {
   "cell_type": "code",
   "execution_count": 12,
   "id": "456d1910",
   "metadata": {},
   "outputs": [
    {
     "name": "stdout",
     "output_type": "stream",
     "text": [
      "RMSE CI: [326.41, 684.91], MedAE: CI: [10.44, 15.51]\n"
     ]
    }
   ],
   "source": [
    "# calculate 95% confidence intervals\n",
    "rmse_scores = []\n",
    "medae_scores = []\n",
    "for i in range(1000):\n",
    "    X_resampled, y_resampled = resample(X_test, y_test, n_samples=len(X_train), replace=True, random_state=i)\n",
    "    y_resampled_pred = rf_pipeline.predict(X_resampled)\n",
    "    y_resampled_original = inv_boxcox(y_resampled, fitted_lambda)\n",
    "    y_resampled_pred_original = inv_boxcox(y_resampled_pred, fitted_lambda)\n",
    "    rmse = root_mean_squared_error(y_resampled_original, y_resampled_pred_original)\n",
    "    medae = median_absolute_error(y_resampled_original, y_resampled_pred_original)\n",
    "    rmse_scores.append(rmse)\n",
    "    medae_scores.append(medae)\n",
    "\n",
    "rmse_lower = np.percentile(rmse_scores, 2.5)\n",
    "rmse_upper = np.percentile(rmse_scores, 97.5)\n",
    "medae_lower = np.percentile(medae_scores, 2.5)\n",
    "medae_upper = np.percentile(medae_scores, 97.5)\n",
    "print(f\"RMSE CI: [{round(rmse_lower, 2)}, {round(rmse_upper, 2)}], MedAE: CI: [{round(medae_lower, 2)}, {round(medae_upper, 2)}]\")"
   ]
  },
  {
   "cell_type": "code",
   "execution_count": 13,
   "id": "8400c24d",
   "metadata": {},
   "outputs": [
    {
     "data": {
      "image/png": "[encoded data removed]",
      "text/plain": [
       "<Figure size 800x600 with 1 Axes>"
      ]
     },
     "metadata": {},
     "output_type": "display_data"
    }
   ],
   "source": [
    "# visualize residuals to look for patterns\n",
    "residuals = y_test_original - y_pred_original\n",
    "sns.set_style(\"darkgrid\")\n",
    "plt.subplots(figsize=(8, 6))\n",
    "sns.scatterplot(x=y_pred_original, y=residuals)\n",
    "plt.axhline(0, color=\"red\", linestyle=\"--\")\n",
    "plt.xlabel(\"predicted views rate\")\n",
    "plt.ylabel(\"residuals\")\n",
    "plt.title(\"Random Forest Residual Plot\")\n",
    "plt.tight_layout()\n",
    "\n",
    "# save png\n",
    "plt.savefig(\"images/rf_residual_plot.png\", dpi=300)"
   ]
  },
  {
   "cell_type": "code",
   "execution_count": 16,
   "id": "796452f6",
   "metadata": {},
   "outputs": [
    {
     "name": "stdout",
     "output_type": "stream",
     "text": [
      "best score: 525.1149844741211, best params: {'xgbregressor__colsample_bytree': np.float64(0.8963200428343789), 'xgbregressor__gamma': np.float64(4.248481082882941), 'xgbregressor__learning_rate': np.float64(0.24752686230002538), 'xgbregressor__max_depth': 11, 'xgbregressor__n_estimators': 637, 'xgbregressor__reg_alpha': np.float64(0.7245150270453108), 'xgbregressor__reg_lambda': np.float64(0.7756212955821994)}\n"
     ]
    }
   ],
   "source": [
    "# instantiate xgboost and use randomized cross validation to search wide range of hyperparameters\n",
    "params = {\"xgbregressor__n_estimators\": randint(500, 900), \"xgbregressor__max_depth\": randint(5, 20), \"xgbregressor__learning_rate\": uniform(0.01, 0.3),\n",
    "          \"xgbregressor__colsample_bytree\": uniform(0.5, 0.5), \"xgbregressor__gamma\": uniform(0, 5), \"xgbregressor__reg_alpha\": uniform(0, 1), \"xgbregressor__reg_lambda\": uniform(0, 1)}\n",
    "\n",
    "xgb_pipeline = make_pipeline(StandardScaler(), xgb.XGBRegressor(objective=\"reg:squarederror\", random_state=SEED))\n",
    "xgb_rand_search = RandomizedSearchCV(xgb_pipeline, param_distributions=params, cv=10, n_iter=50, scoring=rmse_scorer, n_jobs=-1, random_state=SEED)\n",
    "xgb_rand_search.fit(X_train, y_train)\n",
    "xgb_best_params = xgb_rand_search.best_params_\n",
    "print(f\"best score: {-xgb_rand_search.best_score_}, best params: {xgb_best_params}\")"
   ]
  },
  {
   "cell_type": "code",
   "execution_count": 17,
   "id": "cde51ff3",
   "metadata": {},
   "outputs": [
    {
     "name": "stdout",
     "output_type": "stream",
     "text": [
      "best score: 525.1149844741211, best params: {'xgbregressor__colsample_bytree': np.float64(0.8963200428343789), 'xgbregressor__gamma': np.float64(4.248481082882941), 'xgbregressor__lambda': np.float64(0.7756212955821994), 'xgbregressor__learning_rate': np.float64(0.24752686230002538), 'xgbregressor__max_depth': 11, 'xgbregressor__n_estimators': np.int64(557), 'xgbregressor__reg_alpha': np.float64(0.7245150270453108)}\n"
     ]
    }
   ],
   "source": [
    "# use gridsearch for fine-tuning hyperparameters\n",
    "params = {\"xgbregressor__n_estimators\": np.arange(xgb_best_params[\"xgbregressor__n_estimators\"] - 80, xgb_best_params[\"xgbregressor__n_estimators\"] + 100, 20),\n",
    "          \"xgbregressor__max_depth\": [xgb_best_params[\"xgbregressor__max_depth\"]], \"xgbregressor__learning_rate\": [xgb_best_params[\"xgbregressor__learning_rate\"]],\n",
    "          \"xgbregressor__colsample_bytree\": [xgb_best_params[\"xgbregressor__colsample_bytree\"]], \"xgbregressor__gamma\": [xgb_best_params[\"xgbregressor__gamma\"]],\n",
    "          \"xgbregressor__reg_alpha\": [xgb_best_params[\"xgbregressor__reg_alpha\"]], \"xgbregressor__lambda\": [xgb_best_params[\"xgbregressor__reg_lambda\"]]}\n",
    "\n",
    "xgb_grid_search = GridSearchCV(xgb_pipeline, param_grid=params, cv=10, scoring=rmse_scorer, n_jobs=-1)\n",
    "xgb_grid_search.fit(X_train, y_train)\n",
    "xgb_best_params = xgb_grid_search.best_params_\n",
    "print(f\"best score: {-xgb_grid_search.best_score_}, best params: {xgb_best_params}\")"
   ]
  },
  {
   "cell_type": "code",
   "execution_count": 18,
   "id": "44c36803",
   "metadata": {},
   "outputs": [
    {
     "name": "stdout",
     "output_type": "stream",
     "text": [
      "box_rmse: 1.52, original_rmse : 519.54, medae: 12.22, r2: 0.18\n"
     ]
    }
   ],
   "source": [
    "# fit xgboost with optimal parameters\n",
    "xgb_pipeline = make_pipeline(StandardScaler(), xgb.XGBRegressor(objective=\"reg:squarederror\", random_state=SEED, n_estimators=xgb_best_params[\"xgbregressor__n_estimators\"],\n",
    "                                                                max_depth=xgb_best_params[\"xgbregressor__max_depth\"], learning_rate=xgb_best_params[\"xgbregressor__learning_rate\"],\n",
    "                                                                colsample_bytree=xgb_best_params[\"xgbregressor__colsample_bytree\"], gamma=xgb_best_params[\"xgbregressor__gamma\"],\n",
    "                                                                reg_alpha=xgb_best_params[\"xgbregressor__reg_alpha\"], reg_lambda=xgb_best_params[\"xgbregressor__lambda\"]))\n",
    "xgb_pipeline.fit(X_train, y_train)\n",
    "y_pred = xgb_pipeline.predict(X_test)\n",
    "y_pred_original = inv_boxcox(y_pred, fitted_lambda)\n",
    "box_rmse = round(root_mean_squared_error(y_test, y_pred), 2)\n",
    "original_rmse = round(root_mean_squared_error(y_test_original, y_pred_original), 2)\n",
    "medae = round(median_absolute_error(y_test_original, y_pred_original), 2)\n",
    "r2 = round(r2_score(y_test_original, y_pred_original), 2)\n",
    "print(f\"box_rmse: {box_rmse}, original_rmse : {original_rmse}, medae: {medae}, r2: {r2}\")"
   ]
  },
  {
   "cell_type": "code",
   "execution_count": 19,
   "id": "a476197c",
   "metadata": {},
   "outputs": [
    {
     "name": "stdout",
     "output_type": "stream",
     "text": [
      "RMSE CI: [329.84, 683.8], MedAE: CI: [9.3, 15.4]\n"
     ]
    }
   ],
   "source": [
    "# calculate 95% confidence intervals\n",
    "rmse_scores = []\n",
    "medae_scores = []\n",
    "for i in range(1000):\n",
    "    X_resampled, y_resampled = resample(X_test, y_test, n_samples=len(X_train), replace=True, random_state=i)\n",
    "    y_resampled_pred = xgb_pipeline.predict(X_resampled)\n",
    "    y_resampled_original = inv_boxcox(y_resampled, fitted_lambda)\n",
    "    y_resampled_pred_original = inv_boxcox(y_resampled_pred, fitted_lambda)\n",
    "    rmse = root_mean_squared_error(y_resampled_original, y_resampled_pred_original)\n",
    "    medae = median_absolute_error(y_resampled_original, y_resampled_pred_original)\n",
    "    rmse_scores.append(rmse)\n",
    "    medae_scores.append(medae)\n",
    "\n",
    "rmse_lower = np.percentile(rmse_scores, 2.5)\n",
    "rmse_upper = np.percentile(rmse_scores, 97.5)\n",
    "medae_lower = np.percentile(medae_scores, 2.5)\n",
    "medae_upper = np.percentile(medae_scores, 97.5)\n",
    "print(f\"RMSE CI: [{round(rmse_lower, 2)}, {round(rmse_upper, 2)}], MedAE: CI: [{round(medae_lower, 2)}, {round(medae_upper, 2)}]\")"
   ]
  },
  {
   "cell_type": "code",
   "execution_count": 20,
   "id": "d7b480d7",
   "metadata": {},
   "outputs": [
    {
     "data": {
      "image/png": "[encoded data removed]",
      "text/plain": [
       "<Figure size 800x600 with 1 Axes>"
      ]
     },
     "metadata": {},
     "output_type": "display_data"
    }
   ],
   "source": [
    "# visualize residuals to look for patterns\n",
    "residuals = y_test_original - y_pred_original\n",
    "sns.set_style(\"darkgrid\")\n",
    "plt.subplots(figsize=(8, 6))\n",
    "sns.scatterplot(x=y_pred_original, y=residuals)\n",
    "plt.axhline(0, color=\"red\", linestyle=\"--\")\n",
    "plt.xlabel(\"predicted view rate\")\n",
    "plt.ylabel(\"residuals\")\n",
    "plt.title(\"XGBoost Residual Plot\")\n",
    "plt.tight_layout()\n",
    "\n",
    "# save png\n",
    "plt.savefig(\"images/xgb_residual_plot.png\", dpi=300)"
   ]
  },
  {
   "cell_type": "code",
   "execution_count": 33,
   "id": "4c82db09",
   "metadata": {},
   "outputs": [],
   "source": [
    "# save data and model pipelines\n",
    "X_test.to_csv(\"data/x_test.csv\")\n",
    "X_train.to_csv(\"data/x_train.csv\")\n",
    "residuals.to_csv(\"data/residuals.csv\")\n",
    "with open(\"data/pipelines.pkl\", \"wb\") as f:\n",
    "    pickle.dump((rf_pipeline, xgb_pipeline), f)"
   ]
  }
 ],
 "metadata": {
  "kernelspec": {
   "display_name": "3.12.3",
   "language": "python",
   "name": "python3"
  },
  "language_info": {
   "codemirror_mode": {
    "name": "ipython",
    "version": 3
   },
   "file_extension": ".py",
   "mimetype": "text/x-python",
   "name": "python",
   "nbconvert_exporter": "python",
   "pygments_lexer": "ipython3",
   "version": "3.12.3"
  }
 },
 "nbformat": 4,
 "nbformat_minor": 5
}
